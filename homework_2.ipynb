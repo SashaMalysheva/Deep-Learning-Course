{
 "cells": [
  {
   "cell_type": "code",
   "execution_count": 1,
   "metadata": {},
   "outputs": [
    {
     "name": "stderr",
     "output_type": "stream",
     "text": [
      "/usr/local/Cellar/python3/3.6.3/Frameworks/Python.framework/Versions/3.6/lib/python3.6/importlib/_bootstrap.py:219: RuntimeWarning: compiletime version 3.5 of module 'tensorflow.python.framework.fast_tensor_util' does not match runtime version 3.6\n",
      "  return f(*args, **kwds)\n"
     ]
    },
    {
     "name": "stdout",
     "output_type": "stream",
     "text": [
      "Modules to reload:\n",
      "HanSequenceLabellingModel model_components\n",
      "\n",
      "Modules to skip:\n",
      "\n"
     ]
    }
   ],
   "source": [
    "import re\n",
    "import numpy as np\n",
    "import spacy\n",
    "from tqdm import tqdm\n",
    "import tensorflow as tf\n",
    "import pandas as pd\n",
    "import seaborn as sns\n",
    "import time\n",
    "import tarfile\n",
    "import matplotlib.pyplot as plt\n",
    "import itertools\n",
    "import os\n",
    "from scipy import stats, integrate\n",
    "import seaborn as sns\n",
    "import random\n",
    "import urllib.request\n",
    "from matplotlib.pyplot import imshow\n",
    "from PIL import Image, ImageDraw, ImageFont\n",
    "gpu_options = tf.GPUOptions(per_process_gpu_memory_fraction=1)\n",
    "from HanSequenceLabellingModel import HanSequenceLabellingModel\n",
    "%load_ext autoreload\n",
    "%autoreload 1\n",
    "%aimport HanSequenceLabellingModel, model_components\n",
    "%aimport\n",
    "%matplotlib inline"
   ]
  },
  {
   "cell_type": "code",
   "execution_count": 2,
   "metadata": {},
   "outputs": [
    {
     "data": {
      "text/plain": [
       "(list, str, bool)"
      ]
     },
     "execution_count": 2,
     "metadata": {},
     "output_type": "execute_result"
    }
   ],
   "source": [
    "class ImdbMovieReviews:\n",
    "    DEFAULT_URL = \\\n",
    "        'http://ai.stanford.edu/~amaas/data/sentiment/aclImdb_v1.tar.gz'\n",
    "    TOKEN_REGEX = re.compile(r'[A-Za-z]+|[!?.:,()]')\n",
    "    \n",
    "    def __init__(self):\n",
    "        self._cache_dir = './imdb'\n",
    "        self._url = 'http://ai.stanford.edu/~amaas/data/sentiment/aclImdb_v1.tar.gz'\n",
    "        \n",
    "        if not os.path.isfile(self._cache_dir):\n",
    "            urllib.request.urlretrieve(self._url, self._cache_dir)\n",
    "        self.filepath = self._cache_dir\n",
    "\n",
    "    def __iter__(self):\n",
    "        with tarfile.open(self.filepath) as archive:\n",
    "            items = archive.getnames()\n",
    "            for filename in archive.getnames():\n",
    "                if filename.startswith('aclImdb/train/pos/'):\n",
    "                    yield self._read(archive, filename), True\n",
    "                elif filename.startswith('aclImdb/train/neg/'):\n",
    "                    yield self._read(archive, filename), False\n",
    "                    \n",
    "    def _read(self, archive, filename):\n",
    "        with archive.extractfile(filename) as file_:\n",
    "            data = file_.read().decode('utf-8')\n",
    "            data = type(self).TOKEN_REGEX.findall(data)\n",
    "            data = [x.lower() for x in data]\n",
    "            return data\n",
    "\n",
    "\n",
    "example = next(iter(ImdbMovieReviews()))\n",
    "type(example[0]), type(example[0][0]), type(example[1])"
   ]
  },
  {
   "cell_type": "code",
   "execution_count": 3,
   "metadata": {},
   "outputs": [],
   "source": [
    "class Embedding:\n",
    "    \n",
    "    def __init__(self):\n",
    "#          spaCy makes using word vectors very easy. \n",
    "#             The Lexeme , Token , Span  and Doc  classes all have a .vector property,\n",
    "#             which is a 1-dimensional numpy array of 32-bit floats:\n",
    "        self.parser = spacy.load('en_vectors_web_lg')\n",
    "#         self._length = length\n",
    "        self.dimensions = 300\n",
    "        \n",
    "    def __call__(self, sequence, length):\n",
    "        # DO I really need them to be equal length?\n",
    "        # Let's assume I'm not\n",
    "        data = np.zeros((length, self.dimensions))\n",
    "        # you can access known words from the parser's vocabulary\n",
    "        embedded = [self.parser.vocab[w].vector for w in sequence]\n",
    "        data[:len(sequence)] = embedded\n",
    "        return data"
   ]
  },
  {
   "cell_type": "code",
   "execution_count": 4,
   "metadata": {},
   "outputs": [],
   "source": [
    "def preprocess_batched_split2(iterator, embedding, batch_size):\n",
    "    iterator = iter(iterator)\n",
    "    while True:\n",
    "        batch, labels_b = zip(*itertools.islice(iterator, batch_size))\n",
    "        \n",
    "        sents_b = [[list(y) for x, y in itertools.groupby(doc, lambda z: z == '.') if not x] for doc in batch]\n",
    "\n",
    "        sentence_sizes_b = [[len(sent) for sent in doc] for doc in sents_b]\n",
    "        sentence_size = max(map(max, sentence_sizes_b))\n",
    "        \n",
    "        document_sizes = np.array([len(doc) for doc in sentence_sizes_b], dtype=np.int32)\n",
    "        document_size = document_sizes.max()\n",
    "\n",
    "        sentence_sizes_np = np.zeros(shape=[batch_size, document_size], dtype=np.int32)\n",
    "        for bi, ds, ss in zip(range(sentence_sizes_np.shape[0]), document_sizes, sentence_sizes_b):\n",
    "            sentence_sizes_np[bi][:ds] = ss\n",
    "        \n",
    "        text_embed_b = np.zeros((batch_size, document_size, sentence_size, 300))\n",
    "        for i, ds, doc_sents in zip(range(text_embed_b.shape[0]), document_sizes, sents_b):\n",
    "            doc_sents_embed = np.array([embedding(sent, sentence_size) for sent in doc_sents])\n",
    "            text_embed_b[i][:ds] = doc_sents_embed\n",
    "        \n",
    "        yield text_embed_b, np.array(labels_b, dtype=np.int32), np.array(document_sizes), sentence_sizes_np, sents_b"
   ]
  },
  {
   "cell_type": "code",
   "execution_count": null,
   "metadata": {},
   "outputs": [],
   "source": [
    "!!python3 -m spacy download en_vectors_web_lg"
   ]
  },
  {
   "cell_type": "code",
   "execution_count": 5,
   "metadata": {},
   "outputs": [],
   "source": [
    "reviews = list(ImdbMovieReviews())"
   ]
  },
  {
   "cell_type": "code",
   "execution_count": 6,
   "metadata": {},
   "outputs": [],
   "source": [
    "random.shuffle(reviews)"
   ]
  },
  {
   "cell_type": "code",
   "execution_count": 7,
   "metadata": {},
   "outputs": [],
   "source": [
    "batches_split = preprocess_batched_split2(reviews, Embedding(), batch_size=10)"
   ]
  },
  {
   "cell_type": "code",
   "execution_count": 8,
   "metadata": {},
   "outputs": [],
   "source": [
    "#################################################"
   ]
  },
  {
   "cell_type": "code",
   "execution_count": 9,
   "metadata": {},
   "outputs": [],
   "source": [
    "def HAN_model_1(session, restore_only=False, attention=True):\n",
    "    \"\"\"Hierarhical Attention Network\"\"\"\n",
    "    import tensorflow as tf\n",
    "    try:\n",
    "        from tensorflow.contrib.rnn import GRUCell, MultiRNNCell, DropoutWrapper\n",
    "    except ImportError:\n",
    "        MultiRNNCell = tf.nn.rnn_cell.MultiRNNCell\n",
    "        GRUCell = tf.nn.rnn_cell.GRUCell\n",
    "    from bn_lstm import BNLSTMCell\n",
    "    from HanSequenceLabellingModel import HanSequenceLabellingModel\n",
    "\n",
    "    is_training = tf.placeholder(dtype=tf.bool, name='is_training')\n",
    "\n",
    "    cell = BNLSTMCell(80, is_training) # h-h batchnorm LSTMCell\n",
    "    cell = MultiRNNCell([cell]*5)\n",
    "\n",
    "    model = HanSequenceLabellingModel(\n",
    "            embedding_size=300,\n",
    "            classes=2,\n",
    "            word_cell=cell,\n",
    "            sentence_cell=cell,\n",
    "            word_output_size=300,\n",
    "            sentence_output_size=300,\n",
    "            learning_rate=0.001,\n",
    "            max_grad_norm=5.0,\n",
    "            dropout_keep_proba=0.5,\n",
    "            is_training=is_training,\n",
    "            attention=attention\n",
    "    )\n",
    "\n",
    "    saver = tf.train.Saver(tf.global_variables())\n",
    "    checkpoint_dir = 'checkpoints'\n",
    "    checkpoint = tf.train.get_checkpoint_state(checkpoint_dir)\n",
    "    if checkpoint:\n",
    "        print(\"Reading model parameters from %s\" % checkpoint.model_checkpoint_path)\n",
    "        saver.restore(session, checkpoint.model_checkpoint_path)\n",
    "    elif restore_only:\n",
    "        raise FileNotFoundError(\"Cannot restore model\")\n",
    "    else:\n",
    "        print(\"Created model with fresh parameters\")\n",
    "        session.run(tf.global_variables_initializer())\n",
    "        \n",
    "    return model, saver"
   ]
  },
  {
   "cell_type": "code",
   "execution_count": 11,
   "metadata": {},
   "outputs": [
    {
     "name": "stdout",
     "output_type": "stream",
     "text": [
      "Reading model parameters from checkpoints/checkpoint-2600\n",
      "INFO:tensorflow:Restoring parameters from checkpoints/checkpoint-2600\n",
      "step 2601, loss=0.243285, accuracy=0.9, t=95.38, inputs=(10, 41, 126, 300)\n",
      "step 2602, loss=0.149402, accuracy=0.9, t=24.09, inputs=(10, 20, 72, 300)\n"
     ]
    }
   ],
   "source": [
    "tf.reset_default_graph()\n",
    "config = tf.ConfigProto(allow_soft_placement=True)\n",
    "\n",
    "with tf.Session(config=config) as s:\n",
    "    model, saver = HAN_model_1(s)\n",
    "    tflog_dir = 'tf_logs'\n",
    "    summary_writer = tf.summary.FileWriter(tflog_dir, graph=tf.get_default_graph())\n",
    "\n",
    "    for i, (data, labels_batch, sent_per_doc, words_per_sent_per_doc, _) in enumerate(batches_split):\n",
    "\n",
    "        fd = {\n",
    "            model.is_training: True,\n",
    "            model.inputs_embedded: data,\n",
    "            model.word_lengths: words_per_sent_per_doc,\n",
    "            model.sentence_lengths: sent_per_doc,\n",
    "            model.labels: labels_batch,\n",
    "            model.sample_weights: np.ones(shape=(10))\n",
    "        }\n",
    "\n",
    "        t0 = time.clock()\n",
    "        step, summaries, loss, accuracy, _ = s.run([\n",
    "                model.global_step,\n",
    "                model.summary,\n",
    "                model.loss,\n",
    "                model.accuracy,\n",
    "                model.train_op,\n",
    "        ], feed_dict=fd)\n",
    "        td = time.clock() - t0\n",
    "\n",
    "        summary_writer.add_summary(summaries, global_step=step)\n",
    "\n",
    "        checkpoint_frequency = 100\n",
    "        eval_frequency = 1\n",
    "        \n",
    "        if step % 1 == 0:\n",
    "            print('step %s, loss=%s, accuracy=%s, t=%s, inputs=%s' % (step, loss, accuracy, round(td, 2), \n",
    "                                                                      fd[model.inputs_embedded].shape))\n",
    "        if step != 0 and step % checkpoint_frequency == 0:\n",
    "            print('checkpoint & graph meta')\n",
    "            checkpoint_path = 'checkpoints/checkpoint'\n",
    "            saver.save(s, checkpoint_path, global_step=step)\n",
    "            print('checkpoint done')\n",
    "        if step % 2 == 0:\n",
    "            break"
   ]
  },
  {
   "cell_type": "markdown",
   "metadata": {},
   "source": [
    "## Visualize attention for IMDB reviews"
   ]
  },
  {
   "cell_type": "code",
   "execution_count": 112,
   "metadata": {},
   "outputs": [],
   "source": [
    "from __future__ import print_function\n",
    "from colour import Color\n",
    "red = Color(\"red\")\n",
    "colors_sent = list(red.range_to(Color(\"green\"), 1024))\n",
    "colors_val = list(red.range_to(Color(\"blue\"),1024))"
   ]
  },
  {
   "cell_type": "code",
   "execution_count": 113,
   "metadata": {},
   "outputs": [],
   "source": [
    "from colors import Color"
   ]
  },
  {
   "cell_type": "code",
   "execution_count": null,
   "metadata": {},
   "outputs": [],
   "source": [
    "from IPython.core.display import display, HTML"
   ]
  },
  {
   "cell_type": "code",
   "execution_count": 124,
   "metadata": {},
   "outputs": [
    {
     "name": "stdout",
     "output_type": "stream",
     "text": [
      "Reading model parameters from checkpoints/checkpoint-2600\n",
      "INFO:tensorflow:Restoring parameters from checkpoints/checkpoint-2600\n"
     ]
    }
   ],
   "source": [
    "tf.reset_default_graph()\n",
    "config = tf.ConfigProto(allow_soft_placement=True)\n",
    "with tf.Session(config=config) as s:\n",
    "    model, saver = HAN_model_1(s)\n",
    "    data, labels_batch, sent_per_doc, words_per_sent_per_doc, sents_batch = next(batches_split)\n",
    "    fd = {model.is_training: True, model.inputs_embedded: data, \n",
    "          model.word_lengths: words_per_sent_per_doc,\n",
    "          model.sentence_lengths: sent_per_doc, model.labels: labels_batch, \n",
    "          model.sample_weights: np.ones(shape=(10))}\n",
    "    sent_attentionsatts, word_attentions = s.run([model.sentence_attentions, model.word_attentions], feed_dict=fd)\n",
    "    \n",
    "    \n",
    "    sent_attentions = np.squeeze(sent_attentions[0, :len(sents)])  \n",
    "    word_attentions = np.squeeze(word_attentions[:len(sents), :])  \n",
    "    sents = sents_batch[0]  \n",
    "    html = ''\n",
    "    nsents, max_len = len(sents), max(sum(map(len, sent)) + max(map(len, sent)) - 1 for sent in sents)\n",
    "    if max_width is not None: max_len = min(max_len, max_width)\n",
    "    for i, sent in tqdm(enumerate(sents)):\n",
    "        visualization += '<div>'\n",
    "        sent_alpha = sent_attentionsatts[i]\n",
    "        visualization += '<span style=\"background: rgba(0, 0, 0, {})\">&nbsp;&nbsp;&nbsp;&nbsp;</span>'.format(sent_alpha)\n",
    "        for j, word in enumerate(sent):\n",
    "            word_alpha = word_attentions[i, j]\n",
    "            a = 255 * word_alpha\n",
    "            visualization += '<span style=\"background: rgba(0, 0, 0, {})\">{} </span>'.format(word_alpha, word)\n",
    "        visualization += '</div>'\n"
   ]
  },
  {
   "cell_type": "code",
   "execution_count": 133,
   "metadata": {},
   "outputs": [
    {
     "data": {
      "text/html": [
       "<div><span style=\"background: rgba(0, 0, 0, 0.17706024646759033)\">&nbsp;&nbsp;&nbsp;&nbsp;</span><span style=\"background: rgba(0, 0, 0, 0.17919257283210754)\">superb </span><span style=\"background: rgba(0, 0, 0, 0.08833364397287369)\">cast </span><span style=\"background: rgba(0, 0, 0, 0.04429065063595772)\">, </span><span style=\"background: rgba(0, 0, 0, 0.02992008626461029)\">more </span><span style=\"background: rgba(0, 0, 0, 0.016207585111260414)\">please </span><span style=\"background: rgba(0, 0, 0, 0.01645122654736042)\">! </span><span style=\"background: rgba(0, 0, 0, 0.018139272928237915)\">br </span><span style=\"background: rgba(0, 0, 0, 0.024558179080486298)\">br </span><span style=\"background: rgba(0, 0, 0, 0.02732282318174839)\">if </span><span style=\"background: rgba(0, 0, 0, 0.022544898092746735)\">you </span><span style=\"background: rgba(0, 0, 0, 0.026976682245731354)\">can </span><span style=\"background: rgba(0, 0, 0, 0.031032254919409752)\">catch </span><span style=\"background: rgba(0, 0, 0, 0.03963084891438484)\">just </span><span style=\"background: rgba(0, 0, 0, 0.027223670855164528)\">about </span><span style=\"background: rgba(0, 0, 0, 0.033711064606904984)\">anything </span><span style=\"background: rgba(0, 0, 0, 0.02642093040049076)\">else </span><span style=\"background: rgba(0, 0, 0, 0.016194257885217667)\">written </span><span style=\"background: rgba(0, 0, 0, 0.018404357135295868)\">by </span><span style=\"background: rgba(0, 0, 0, 0.01611977256834507)\">plater </span><span style=\"background: rgba(0, 0, 0, 0.011279631406068802)\">( </span><span style=\"background: rgba(0, 0, 0, 0.012451407499611378)\">or </span><span style=\"background: rgba(0, 0, 0, 0.008726936765015125)\">starring </span><span style=\"background: rgba(0, 0, 0, 0.008236298337578773)\">these </span><span style=\"background: rgba(0, 0, 0, 0.022201498970389366)\">wonderful </span><span style=\"background: rgba(0, 0, 0, 0.02760549634695053)\">actors </span><span style=\"background: rgba(0, 0, 0, 0.015792155638337135)\">) </span></div><div><span style=\"background: rgba(0, 0, 0, 0.17973971366882324)\">&nbsp;&nbsp;&nbsp;&nbsp;</span><span style=\"background: rgba(0, 0, 0, 0.06323510408401489)\">for </span><span style=\"background: rgba(0, 0, 0, 0.04995684325695038)\">anyone </span><span style=\"background: rgba(0, 0, 0, 0.034605950117111206)\">who </span><span style=\"background: rgba(0, 0, 0, 0.03969099000096321)\">doesn </span><span style=\"background: rgba(0, 0, 0, 0.026506220921874046)\">t </span><span style=\"background: rgba(0, 0, 0, 0.013231351040303707)\">know </span><span style=\"background: rgba(0, 0, 0, 0.0137607017531991)\">plater </span><span style=\"background: rgba(0, 0, 0, 0.00946827232837677)\">has </span><span style=\"background: rgba(0, 0, 0, 0.010911324061453342)\">a </span><span style=\"background: rgba(0, 0, 0, 0.011891264468431473)\">real </span><span style=\"background: rgba(0, 0, 0, 0.01347808726131916)\">feeling </span><span style=\"background: rgba(0, 0, 0, 0.013304155319929123)\">for </span><span style=\"background: rgba(0, 0, 0, 0.014064847491681576)\">jazz </span><span style=\"background: rgba(0, 0, 0, 0.019823266193270683)\">, </span><span style=\"background: rgba(0, 0, 0, 0.02305492013692856)\">my </span><span style=\"background: rgba(0, 0, 0, 0.027641259133815765)\">recommendation </span><span style=\"background: rgba(0, 0, 0, 0.03912750631570816)\">is </span><span style=\"background: rgba(0, 0, 0, 0.03576168790459633)\">to </span><span style=\"background: rgba(0, 0, 0, 0.028586149215698242)\">see </span><span style=\"background: rgba(0, 0, 0, 0.028285104781389236)\">the </span><span style=\"background: rgba(0, 0, 0, 0.027323253452777863)\">beiderbecke </span><span style=\"background: rgba(0, 0, 0, 0.036099884659051895)\">trilogy </span><span style=\"background: rgba(0, 0, 0, 0.038746967911720276)\">whenever </span><span style=\"background: rgba(0, 0, 0, 0.03072875179350376)\">you </span><span style=\"background: rgba(0, 0, 0, 0.027525901794433594)\">can </span></div><div><span style=\"background: rgba(0, 0, 0, 0.25725314021110535)\">&nbsp;&nbsp;&nbsp;&nbsp;</span><span style=\"background: rgba(0, 0, 0, 0.027233490720391273)\">br </span><span style=\"background: rgba(0, 0, 0, 0.02204604633152485)\">br </span><span style=\"background: rgba(0, 0, 0, 0.01936311274766922)\">there </span><span style=\"background: rgba(0, 0, 0, 0.014033235609531403)\">s </span><span style=\"background: rgba(0, 0, 0, 0.01287843193858862)\">three </span><span style=\"background: rgba(0, 0, 0, 0.012561928480863571)\">kinds </span><span style=\"background: rgba(0, 0, 0, 0.013699637725949287)\">of </span><span style=\"background: rgba(0, 0, 0, 0.015247700735926628)\">jazz </span><span style=\"background: rgba(0, 0, 0, 0.017140625044703484)\">hot </span><span style=\"background: rgba(0, 0, 0, 0.01717624068260193)\">, </span><span style=\"background: rgba(0, 0, 0, 0.021833159029483795)\">cool </span><span style=\"background: rgba(0, 0, 0, 0.02737870253622532)\">and </span><span style=\"background: rgba(0, 0, 0, 0.03551473096013069)\">what </span><span style=\"background: rgba(0, 0, 0, 0.03965606912970543)\">time </span><span style=\"background: rgba(0, 0, 0, 0.0440794974565506)\">does </span><span style=\"background: rgba(0, 0, 0, 0.03481357544660568)\">the </span><span style=\"background: rgba(0, 0, 0, 0.054246172308921814)\">tune </span><span style=\"background: rgba(0, 0, 0, 0.09881898015737534)\">start </span><span style=\"background: rgba(0, 0, 0, 0.17995110154151917)\">? </span></div>"
      ],
      "text/plain": [
       "<IPython.core.display.HTML object>"
      ]
     },
     "execution_count": 133,
     "metadata": {},
     "output_type": "execute_result"
    }
   ],
   "source": [
    "HTML(visualization1)"
   ]
  },
  {
   "cell_type": "markdown",
   "metadata": {},
   "source": [
    "## Plot attention weight distribution of words \"good\" and \"bad\""
   ]
  },
  {
   "cell_type": "code",
   "execution_count": 31,
   "metadata": {},
   "outputs": [
    {
     "name": "stdout",
     "output_type": "stream",
     "text": [
      "Reading model parameters from checkpoints/checkpoint-2600\n",
      "INFO:tensorflow:Restoring parameters from checkpoints/checkpoint-2600\n"
     ]
    },
    {
     "name": "stderr",
     "output_type": "stream",
     "text": [
      "200it [19:21,  5.81s/it]"
     ]
    }
   ],
   "source": [
    "iters = 200\n",
    "tf.reset_default_graph()\n",
    "config = tf.ConfigProto(allow_soft_placement=True)\n",
    "good_pos = []\n",
    "good_neg = []\n",
    "bad_pos = []\n",
    "bad_neg = []\n",
    "with tf.Session(config=config) as s:\n",
    "    model, saver = HAN_model_1(s)\n",
    "    for i, (data, labels_batch, sent_per_doc, words_per_sent_per_doc, sents_b) in tqdm(enumerate(batches_split)):\n",
    "        fd = {\n",
    "              model.is_training: True, model.inputs_embedded: data, \n",
    "              model.word_lengths: words_per_sent_per_doc,\n",
    "              model.sentence_lengths: sent_per_doc, model.labels: labels_batch, \n",
    "              model.sample_weights: np.ones(shape=(10))\n",
    "        }\n",
    "        sent_attentions, word_attentionsatts = s.run([model.sentence_attentions, model.word_attentions], feed_dict=fd)\n",
    "        length = 0\n",
    "        for i, sents in enumerate(sents_b):\n",
    "            for j, sent in enumerate(sents):\n",
    "                for k, word in enumerate(sent):\n",
    "                    if word == 'good':\n",
    "                        if labels_batch[i] == 1:\n",
    "                            good_pos.append(word_attentions[length + j, k])\n",
    "                        else:\n",
    "                            good_neg.append(word_attentions[length + j, k])\n",
    "                    if word == 'bad':\n",
    "                        if labels_batch[i] == 1:\n",
    "                            bad_neg.append(word_attentions[length + j, k])\n",
    "                        else:\n",
    "                            bad_pos.append(word_attentions[length + j, k])\n",
    "            length += len(sents) + 1\n",
    "        if i == iters:\n",
    "            break\n",
    "good_pos = np.array(good_pos)\n",
    "good_neg = np.array(good_neg)\n",
    "bad_pos = np.array(bad_pos)\n",
    "bad_neg = np.array(bad_neg)"
   ]
  },
  {
   "cell_type": "code",
   "execution_count": 60,
   "metadata": {},
   "outputs": [
    {
     "data": {
      "text/plain": [
       "<matplotlib.legend.Legend at 0x202b9ce10>"
      ]
     },
     "execution_count": 60,
     "metadata": {},
     "output_type": "execute_result"
    },
    {
     "data": {
      "image/png": "[encoded data removed]",
      "text/plain": [
       "<matplotlib.figure.Figure at 0x1e7351860>"
      ]
     },
     "metadata": {},
     "output_type": "display_data"
    }
   ],
   "source": [
    "sns.distplot(good_pos,  label='good_pos')\n",
    "sns.distplot(good_neg,  label='good_neg')\n",
    "plt.legend()"
   ]
  },
  {
   "cell_type": "code",
   "execution_count": 61,
   "metadata": {},
   "outputs": [
    {
     "data": {
      "text/plain": [
       "<matplotlib.legend.Legend at 0x1cb9ea7b8>"
      ]
     },
     "execution_count": 61,
     "metadata": {},
     "output_type": "execute_result"
    },
    {
     "data": {
      "image/png": "[encoded data removed]",
      "text/plain": [
       "<matplotlib.figure.Figure at 0x1c1ff2860>"
      ]
     },
     "metadata": {},
     "output_type": "display_data"
    }
   ],
   "source": [
    "sns.distplot(bad_pos,  label='bad_pos')\n",
    "sns.distplot(bad_neg,  label='bad_neg')\n",
    "plt.legend()"
   ]
  },
  {
   "cell_type": "markdown",
   "metadata": {},
   "source": [
    "## Compare accuracy for HAN with plain rnn-based model and singe-word-attention model "
   ]
  },
  {
   "cell_type": "code",
   "execution_count": 15,
   "metadata": {},
   "outputs": [
    {
     "name": "stdout",
     "output_type": "stream",
     "text": [
      "Reading model parameters from checkpoints/checkpoint-2600\n",
      "INFO:tensorflow:Restoring parameters from checkpoints/checkpoint-2600\n"
     ]
    },
    {
     "name": "stderr",
     "output_type": "stream",
     "text": [
      "\n",
      "0it [00:00, ?it/s]\u001b[A\n",
      "1it [00:04,  4.17s/it]\u001b[A"
     ]
    },
    {
     "name": "stdout",
     "output_type": "stream",
     "text": [
      "0 accuracy= 0.7\n"
     ]
    },
    {
     "name": "stderr",
     "output_type": "stream",
     "text": [
      "\n",
      "Exception in thread Thread-6:\n",
      "Traceback (most recent call last):\n",
      "  File \"/usr/local/Cellar/python3/3.6.3/Frameworks/Python.framework/Versions/3.6/lib/python3.6/threading.py\", line 916, in _bootstrap_inner\n",
      "    self.run()\n",
      "  File \"/usr/local/lib/python3.6/site-packages/tqdm/_tqdm.py\", line 144, in run\n",
      "    for instance in self.tqdm_cls._instances:\n",
      "  File \"/usr/local/Cellar/python3/3.6.3/Frameworks/Python.framework/Versions/3.6/lib/python3.6/_weakrefset.py\", line 60, in __iter__\n",
      "    for itemref in self.data:\n",
      "RuntimeError: Set changed size during iteration\n",
      "\n",
      "31it [02:58,  5.76s/it]"
     ]
    },
    {
     "name": "stdout",
     "output_type": "stream",
     "text": [
      "30 accuracy= 0.8354838709677419\n"
     ]
    },
    {
     "name": "stderr",
     "output_type": "stream",
     "text": [
      "61it [05:52,  5.78s/it]"
     ]
    },
    {
     "name": "stdout",
     "output_type": "stream",
     "text": [
      "60 accuracy= 0.8311475409836065\n"
     ]
    },
    {
     "name": "stderr",
     "output_type": "stream",
     "text": [
      "91it [08:39,  5.71s/it]"
     ]
    },
    {
     "name": "stdout",
     "output_type": "stream",
     "text": [
      "90 accuracy= 0.8362637362637363\n"
     ]
    },
    {
     "name": "stderr",
     "output_type": "stream",
     "text": [
      "121it [10:54,  5.41s/it]"
     ]
    },
    {
     "name": "stdout",
     "output_type": "stream",
     "text": [
      "120 accuracy= 0.8429752066115702\n"
     ]
    },
    {
     "name": "stderr",
     "output_type": "stream",
     "text": [
      "151it [13:26,  5.34s/it]"
     ]
    },
    {
     "name": "stdout",
     "output_type": "stream",
     "text": [
      "150 accuracy= 0.8450331125827815\n"
     ]
    },
    {
     "name": "stderr",
     "output_type": "stream",
     "text": [
      "181it [15:39,  5.19s/it]"
     ]
    },
    {
     "name": "stdout",
     "output_type": "stream",
     "text": [
      "180 accuracy= 0.8425414364640884\n"
     ]
    },
    {
     "name": "stderr",
     "output_type": "stream",
     "text": [
      "200it [16:57,  5.09s/it]\n"
     ]
    }
   ],
   "source": [
    "iters = 200\n",
    "tf.reset_default_graph()\n",
    "config = tf.ConfigProto(allow_soft_placement=True)\n",
    "with tf.Session(config=config) as s:\n",
    "    model, saver = HAN_model_1(s, True)\n",
    "    cum = 0.\n",
    "    cum_correct = 0\n",
    "    for i, (data, labels_batch, sent_per_doc, words_per_sent_per_doc, sents_batch) in tqdm(enumerate(batches_split)):\n",
    "        fd = {model.is_training: False, model.inputs_embedded: data, \n",
    "              model.word_lengths: words_per_sent_per_doc,\n",
    "              model.sentence_lengths: sent_per_doc, model.labels: labels_batch, \n",
    "              model.sample_weights: np.ones(shape=(10))}\n",
    "        label_predict = s.run(model.prediction, feed_dict=fd)\n",
    "        cum_correct += np.sum(labels_batch == label_predict)\n",
    "        cum += len(labels_batch)\n",
    "        if i % 40 == 0:\n",
    "            print('acc=', cum_correct / cum)\n",
    "        if i == iters:\n",
    "            break"
   ]
  },
  {
   "cell_type": "code",
   "execution_count": null,
   "metadata": {},
   "outputs": [],
   "source": []
  }
 ],
 "metadata": {
  "kernelspec": {
   "display_name": "Python 3",
   "language": "python",
   "name": "python3"
  },
  "language_info": {
   "codemirror_mode": {
    "name": "ipython",
    "version": 3
   },
   "file_extension": ".py",
   "mimetype": "text/x-python",
   "name": "python",
   "nbconvert_exporter": "python",
   "pygments_lexer": "ipython3",
   "version": "3.6.3"
  }
 },
 "nbformat": 4,
 "nbformat_minor": 2
}
